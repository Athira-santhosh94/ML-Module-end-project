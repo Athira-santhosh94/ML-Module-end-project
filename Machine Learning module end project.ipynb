{
 "cells": [
  {
   "cell_type": "markdown",
   "id": "d4c9e109-b1a4-4e43-af08-e005ac43e2c8",
   "metadata": {},
   "source": [
    "## US Car Price Prediction using Machine Learning"
   ]
  },
  {
   "cell_type": "code",
   "execution_count": 1,
   "id": "91bb17b5-c60d-4496-a760-e7a054cbab65",
   "metadata": {},
   "outputs": [],
   "source": [
    "# Import necessary libraries\n",
    "import pandas as pd\n",
    "import numpy as np\n",
    "import matplotlib.pyplot as plt\n",
    "import seaborn as sns\n",
    "\n",
    "from sklearn.model_selection import train_test_split, GridSearchCV\n",
    "from sklearn.preprocessing import StandardScaler\n",
    "from sklearn.metrics import r2_score, mean_squared_error, mean_absolute_error\n",
    "\n",
    "from sklearn.linear_model import LinearRegression\n",
    "from sklearn.tree import DecisionTreeRegressor\n",
    "from sklearn.ensemble import RandomForestRegressor, GradientBoostingRegressor\n",
    "from sklearn.svm import SVR\n",
    "\n",
    "import warnings\n",
    "warnings.filterwarnings('ignore')"
   ]
  },
  {
   "cell_type": "markdown",
   "id": "a10a3817-d70f-4e3e-92d1-c218c7d342ab",
   "metadata": {},
   "source": [
    "#### 1. Loading and Preprocessing"
   ]
  },
  {
   "cell_type": "code",
   "execution_count": 3,
   "id": "0ae4ee74-5ec3-4330-8267-8bf5babaf049",
   "metadata": {},
   "outputs": [],
   "source": [
    "# Load the dataset\n",
    "df = pd.read_csv(\"CarPrice_Assignment.csv\")"
   ]
  },
  {
   "cell_type": "code",
   "execution_count": 43,
   "id": "d3eb1c10-448a-498e-b3eb-3a59356759ae",
   "metadata": {},
   "outputs": [
    {
     "name": "stdout",
     "output_type": "stream",
     "text": [
      "   symboling  wheelbase  carlength  carwidth  carheight  curbweight  \\\n",
      "0          3       88.6      168.8      64.1       48.8        2548   \n",
      "1          3       88.6      168.8      64.1       48.8        2548   \n",
      "2          1       94.5      171.2      65.5       52.4        2823   \n",
      "3          2       99.8      176.6      66.2       54.3        2337   \n",
      "4          2       99.4      176.6      66.4       54.3        2824   \n",
      "\n",
      "   enginesize  boreratio  stroke  compressionratio  ...  CarBrand_nissan  \\\n",
      "0         130       3.47    2.68               9.0  ...            False   \n",
      "1         130       3.47    2.68               9.0  ...            False   \n",
      "2         152       2.68    3.47               9.0  ...            False   \n",
      "3         109       3.19    3.40              10.0  ...            False   \n",
      "4         136       3.19    3.40               8.0  ...            False   \n",
      "\n",
      "   CarBrand_peugeot  CarBrand_plymouth  CarBrand_porsche  CarBrand_renault  \\\n",
      "0             False              False             False             False   \n",
      "1             False              False             False             False   \n",
      "2             False              False             False             False   \n",
      "3             False              False             False             False   \n",
      "4             False              False             False             False   \n",
      "\n",
      "   CarBrand_saab  CarBrand_subaru  CarBrand_toyota  CarBrand_volkswagen  \\\n",
      "0          False            False            False                False   \n",
      "1          False            False            False                False   \n",
      "2          False            False            False                False   \n",
      "3          False            False            False                False   \n",
      "4          False            False            False                False   \n",
      "\n",
      "   CarBrand_volvo  \n",
      "0           False  \n",
      "1           False  \n",
      "2           False  \n",
      "3           False  \n",
      "4           False  \n",
      "\n",
      "[5 rows x 65 columns]\n"
     ]
    }
   ],
   "source": [
    "# Basic EDA\n",
    "print(df.head())"
   ]
  },
  {
   "cell_type": "code",
   "execution_count": 45,
   "id": "c20a9894-694f-4cc5-949b-788131d79aea",
   "metadata": {},
   "outputs": [
    {
     "name": "stdout",
     "output_type": "stream",
     "text": [
      "<class 'pandas.core.frame.DataFrame'>\n",
      "RangeIndex: 205 entries, 0 to 204\n",
      "Data columns (total 65 columns):\n",
      " #   Column                 Non-Null Count  Dtype  \n",
      "---  ------                 --------------  -----  \n",
      " 0   symboling              205 non-null    int64  \n",
      " 1   wheelbase              205 non-null    float64\n",
      " 2   carlength              205 non-null    float64\n",
      " 3   carwidth               205 non-null    float64\n",
      " 4   carheight              205 non-null    float64\n",
      " 5   curbweight             205 non-null    int64  \n",
      " 6   enginesize             205 non-null    int64  \n",
      " 7   boreratio              205 non-null    float64\n",
      " 8   stroke                 205 non-null    float64\n",
      " 9   compressionratio       205 non-null    float64\n",
      " 10  horsepower             205 non-null    int64  \n",
      " 11  peakrpm                205 non-null    int64  \n",
      " 12  citympg                205 non-null    int64  \n",
      " 13  highwaympg             205 non-null    int64  \n",
      " 14  price                  205 non-null    float64\n",
      " 15  fueltype_gas           205 non-null    bool   \n",
      " 16  aspiration_turbo       205 non-null    bool   \n",
      " 17  doornumber_two         205 non-null    bool   \n",
      " 18  carbody_hardtop        205 non-null    bool   \n",
      " 19  carbody_hatchback      205 non-null    bool   \n",
      " 20  carbody_sedan          205 non-null    bool   \n",
      " 21  carbody_wagon          205 non-null    bool   \n",
      " 22  drivewheel_fwd         205 non-null    bool   \n",
      " 23  drivewheel_rwd         205 non-null    bool   \n",
      " 24  enginelocation_rear    205 non-null    bool   \n",
      " 25  enginetype_dohcv       205 non-null    bool   \n",
      " 26  enginetype_l           205 non-null    bool   \n",
      " 27  enginetype_ohc         205 non-null    bool   \n",
      " 28  enginetype_ohcf        205 non-null    bool   \n",
      " 29  enginetype_ohcv        205 non-null    bool   \n",
      " 30  enginetype_rotor       205 non-null    bool   \n",
      " 31  cylindernumber_five    205 non-null    bool   \n",
      " 32  cylindernumber_four    205 non-null    bool   \n",
      " 33  cylindernumber_six     205 non-null    bool   \n",
      " 34  cylindernumber_three   205 non-null    bool   \n",
      " 35  cylindernumber_twelve  205 non-null    bool   \n",
      " 36  cylindernumber_two     205 non-null    bool   \n",
      " 37  fuelsystem_2bbl        205 non-null    bool   \n",
      " 38  fuelsystem_4bbl        205 non-null    bool   \n",
      " 39  fuelsystem_idi         205 non-null    bool   \n",
      " 40  fuelsystem_mfi         205 non-null    bool   \n",
      " 41  fuelsystem_mpfi        205 non-null    bool   \n",
      " 42  fuelsystem_spdi        205 non-null    bool   \n",
      " 43  fuelsystem_spfi        205 non-null    bool   \n",
      " 44  CarBrand_audi          205 non-null    bool   \n",
      " 45  CarBrand_bmw           205 non-null    bool   \n",
      " 46  CarBrand_buick         205 non-null    bool   \n",
      " 47  CarBrand_chevrolet     205 non-null    bool   \n",
      " 48  CarBrand_dodge         205 non-null    bool   \n",
      " 49  CarBrand_honda         205 non-null    bool   \n",
      " 50  CarBrand_isuzu         205 non-null    bool   \n",
      " 51  CarBrand_jaguar        205 non-null    bool   \n",
      " 52  CarBrand_mazda         205 non-null    bool   \n",
      " 53  CarBrand_mercury       205 non-null    bool   \n",
      " 54  CarBrand_mitsubishi    205 non-null    bool   \n",
      " 55  CarBrand_nissan        205 non-null    bool   \n",
      " 56  CarBrand_peugeot       205 non-null    bool   \n",
      " 57  CarBrand_plymouth      205 non-null    bool   \n",
      " 58  CarBrand_porsche       205 non-null    bool   \n",
      " 59  CarBrand_renault       205 non-null    bool   \n",
      " 60  CarBrand_saab          205 non-null    bool   \n",
      " 61  CarBrand_subaru        205 non-null    bool   \n",
      " 62  CarBrand_toyota        205 non-null    bool   \n",
      " 63  CarBrand_volkswagen    205 non-null    bool   \n",
      " 64  CarBrand_volvo         205 non-null    bool   \n",
      "dtypes: bool(50), float64(8), int64(7)\n",
      "memory usage: 34.2 KB\n",
      "None\n"
     ]
    }
   ],
   "source": [
    "print(df.info())"
   ]
  },
  {
   "cell_type": "code",
   "execution_count": 47,
   "id": "2079eac9-f952-4215-9e01-a8c5407f9e24",
   "metadata": {},
   "outputs": [
    {
     "name": "stdout",
     "output_type": "stream",
     "text": [
      "        symboling   wheelbase   carlength    carwidth   carheight  \\\n",
      "count  205.000000  205.000000  205.000000  205.000000  205.000000   \n",
      "mean     0.834146   98.756585  174.049268   65.907805   53.724878   \n",
      "std      1.245307    6.021776   12.337289    2.145204    2.443522   \n",
      "min     -2.000000   86.600000  141.100000   60.300000   47.800000   \n",
      "25%      0.000000   94.500000  166.300000   64.100000   52.000000   \n",
      "50%      1.000000   97.000000  173.200000   65.500000   54.100000   \n",
      "75%      2.000000  102.400000  183.100000   66.900000   55.500000   \n",
      "max      3.000000  120.900000  208.100000   72.300000   59.800000   \n",
      "\n",
      "        curbweight  enginesize   boreratio      stroke  compressionratio  \\\n",
      "count   205.000000  205.000000  205.000000  205.000000        205.000000   \n",
      "mean   2555.565854  126.907317    3.329756    3.255415         10.142537   \n",
      "std     520.680204   41.642693    0.270844    0.313597          3.972040   \n",
      "min    1488.000000   61.000000    2.540000    2.070000          7.000000   \n",
      "25%    2145.000000   97.000000    3.150000    3.110000          8.600000   \n",
      "50%    2414.000000  120.000000    3.310000    3.290000          9.000000   \n",
      "75%    2935.000000  141.000000    3.580000    3.410000          9.400000   \n",
      "max    4066.000000  326.000000    3.940000    4.170000         23.000000   \n",
      "\n",
      "       horsepower      peakrpm     citympg  highwaympg         price  \n",
      "count  205.000000   205.000000  205.000000  205.000000    205.000000  \n",
      "mean   104.117073  5125.121951   25.219512   30.751220  13276.710571  \n",
      "std     39.544167   476.985643    6.542142    6.886443   7988.852332  \n",
      "min     48.000000  4150.000000   13.000000   16.000000   5118.000000  \n",
      "25%     70.000000  4800.000000   19.000000   25.000000   7788.000000  \n",
      "50%     95.000000  5200.000000   24.000000   30.000000  10295.000000  \n",
      "75%    116.000000  5500.000000   30.000000   34.000000  16503.000000  \n",
      "max    288.000000  6600.000000   49.000000   54.000000  45400.000000  \n"
     ]
    }
   ],
   "source": [
    "print(df.describe())"
   ]
  },
  {
   "cell_type": "code",
   "execution_count": 7,
   "id": "7a646506-16b6-4e43-a560-71f5715e7b12",
   "metadata": {},
   "outputs": [],
   "source": [
    "# Drop car_ID as it's just an identifier\n",
    "df.drop(['car_ID'], axis=1, inplace=True)\n"
   ]
  },
  {
   "cell_type": "code",
   "execution_count": 9,
   "id": "9ab5bc69-abd9-4c21-b8ff-8cf1d1f0e611",
   "metadata": {},
   "outputs": [],
   "source": [
    "# Extracting car brand\n",
    "df['CarBrand'] = df['CarName'].apply(lambda x: x.split(\" \")[0])\n",
    "df.drop('CarName', axis=1, inplace=True)\n",
    "# Correct misspellings in CarBrand\n",
    "df['CarBrand'] = df['CarBrand'].replace({\n",
    "    'vw': 'volkswagen', 'vokswagen': 'volkswagen', 'toyouta': 'toyota',\n",
    "    'porcshce': 'porsche', 'Nissan': 'nissan', 'maxda': 'mazda'\n",
    "})"
   ]
  },
  {
   "cell_type": "code",
   "execution_count": 16,
   "id": "19fc5b5c-d4b9-4b0f-be29-1d0c74856ead",
   "metadata": {},
   "outputs": [],
   "source": [
    "# Convert categorical columns to dummy variables\n",
    "categorical_cols = df.select_dtypes(include='object').columns\n",
    "df = pd.get_dummies(df, columns=categorical_cols, drop_first=True)"
   ]
  },
  {
   "cell_type": "code",
   "execution_count": 18,
   "id": "8c7687f0-c57f-4450-b525-7e98199679d4",
   "metadata": {},
   "outputs": [],
   "source": [
    "# Splitting features and target\n",
    "X = df.drop('price', axis=1)\n",
    "y = df['price']"
   ]
  },
  {
   "cell_type": "code",
   "execution_count": 20,
   "id": "6a7ad392-d291-4152-8d15-f5e67826b6be",
   "metadata": {},
   "outputs": [],
   "source": [
    "# Scaling the features\n",
    "scaler = StandardScaler()\n",
    "X_scaled = scaler.fit_transform(X)"
   ]
  },
  {
   "cell_type": "code",
   "execution_count": 22,
   "id": "64056048-ca6d-445b-a1bb-5709b00f147d",
   "metadata": {},
   "outputs": [],
   "source": [
    "# Train-test split\n",
    "X_train, X_test, y_train, y_test = train_test_split(\n",
    "    X_scaled, y, test_size=0.2, random_state=42)"
   ]
  },
  {
   "cell_type": "markdown",
   "id": "b3276ccb-d861-4b1e-95cd-0e5bb41c5d25",
   "metadata": {},
   "source": [
    "#### 2. Model Implementation"
   ]
  },
  {
   "cell_type": "code",
   "execution_count": 25,
   "id": "614e27e1-95f3-4ff3-b1e9-db67e2a8be7f",
   "metadata": {},
   "outputs": [],
   "source": [
    "#Initialize Models\n",
    "models = {\n",
    "    'Linear Regression': LinearRegression(),\n",
    "    'Decision Tree': DecisionTreeRegressor(random_state=42),\n",
    "    'Random Forest': RandomForestRegressor(random_state=42),\n",
    "    'Gradient Boosting': GradientBoostingRegressor(random_state=42),\n",
    "    'Support Vector': SVR()\n",
    "}"
   ]
  },
  {
   "cell_type": "code",
   "execution_count": 49,
   "id": "aa34a82d-e17d-4338-a9eb-8ebae0d9b970",
   "metadata": {},
   "outputs": [],
   "source": [
    "# Train and Evaluate Models\n",
    "results = {}\n",
    "for name, model in models.items():\n",
    "    model.fit(X_train, y_train)\n",
    "    y_pred = model.predict(X_test)\n",
    "    results[name] = {\n",
    "        'R2': r2_score(y_test, y_pred),\n",
    "        'MSE': mean_squared_error(y_test, y_pred),\n",
    "        'MAE': mean_absolute_error(y_test, y_pred)\n",
    "    }"
   ]
  },
  {
   "cell_type": "markdown",
   "id": "d433cb32-461a-46d2-a0c3-2917ca8a8aaa",
   "metadata": {},
   "source": [
    "#### 3. Model Evaluation"
   ]
  },
  {
   "cell_type": "code",
   "execution_count": 30,
   "id": "c031c890-f5b1-41b7-adf3-14c272dd0a6b",
   "metadata": {},
   "outputs": [
    {
     "name": "stdout",
     "output_type": "stream",
     "text": [
      "\n",
      "Model Evaluation Results:\n",
      "                         R2           MSE          MAE\n",
      "Linear Regression  0.910162  7.092188e+06  1760.870731\n",
      "Decision Tree      0.906907  7.349134e+06  1782.589439\n",
      "Random Forest      0.958267  3.294575e+06  1293.233793\n",
      "Gradient Boosting  0.924181  5.985429e+06  1710.336389\n",
      "Support Vector    -0.100615  8.688696e+07  5701.535525\n"
     ]
    }
   ],
   "source": [
    "#Display Model Results\n",
    "results_df = pd.DataFrame(results).T\n",
    "print(\"\\nModel Evaluation Results:\")\n",
    "print(results_df)"
   ]
  },
  {
   "cell_type": "code",
   "execution_count": 32,
   "id": "1e192127-49ff-4d72-9808-67a9a1099b13",
   "metadata": {},
   "outputs": [
    {
     "name": "stdout",
     "output_type": "stream",
     "text": [
      "\n",
      "✅ Best Model: Random Forest\n"
     ]
    }
   ],
   "source": [
    "# Identify the best model\n",
    "best_model = results_df['R2'].idxmax()\n",
    "print(f\"\\n✅ Best Model: {best_model}\")"
   ]
  },
  {
   "cell_type": "markdown",
   "id": "5dcdff9d-1151-4d10-a870-bce0a0340854",
   "metadata": {},
   "source": [
    "#### 4. Feature Importance Analysis (for tree-based models)"
   ]
  },
  {
   "cell_type": "code",
   "execution_count": 38,
   "id": "9c148020-afb1-423b-b4e3-317aa8142e8b",
   "metadata": {},
   "outputs": [
    {
     "data": {
      "image/png": "[encoded data removed]",
      "text/plain": [
       "<Figure size 1000x600 with 1 Axes>"
      ]
     },
     "metadata": {},
     "output_type": "display_data"
    }
   ],
   "source": [
    "if best_model in ['Random Forest', 'Gradient Boosting']:\n",
    "    feature_imp = pd.Series(\n",
    "        models[best_model].feature_importances_, \n",
    "        index=X.columns\n",
    "    ).sort_values(ascending=False)\n",
    "    plt.figure(figsize=(10,6))\n",
    "    sns.barplot(x=feature_imp[:15], y=feature_imp[:15].index)\n",
    "    plt.title(\"Top 15 Important Features\")\n",
    "    plt.show()"
   ]
  },
  {
   "cell_type": "markdown",
   "id": "d076659c-a4d5-40b9-845d-d8bd073baa57",
   "metadata": {},
   "source": [
    "#### 5. Hyperparameter Tuning"
   ]
  },
  {
   "cell_type": "code",
   "execution_count": 41,
   "id": "f0e74332-62a6-4ef1-a618-363ab6ca7ce4",
   "metadata": {},
   "outputs": [
    {
     "name": "stdout",
     "output_type": "stream",
     "text": [
      "\n",
      "R2 after Tuning: 0.9598\n"
     ]
    }
   ],
   "source": [
    "if best_model == 'Random Forest':\n",
    "    param_grid = {\n",
    "        'n_estimators': [100, 200],\n",
    "        'max_depth': [None, 10, 20],\n",
    "        'min_samples_split': [2, 5]\n",
    "    }\n",
    "    grid = GridSearchCV(RandomForestRegressor(random_state=42), param_grid, cv=3, scoring='r2', n_jobs=-1)\n",
    "    grid.fit(X_train, y_train)\n",
    "    best_rf = grid.best_estimator_\n",
    "    y_pred_tuned = best_rf.predict(X_test)\n",
    "    print(f\"\\nR2 after Tuning: {r2_score(y_test, y_pred_tuned):.4f}\")\n",
    "elif best_model == 'Gradient Boosting':\n",
    "    param_grid = {\n",
    "        'n_estimators': [100, 200],\n",
    "        'learning_rate': [0.05, 0.1],\n",
    "        'max_depth': [3, 5]\n",
    "    }\n",
    "    grid = GridSearchCV(GradientBoostingRegressor(random_state=42), param_grid, cv=3, scoring='r2', n_jobs=-1)\n",
    "    grid.fit(X_train, y_train)\n",
    "    best_gb = grid.best_estimator_\n",
    "    y_pred_tuned = best_gb.predict(X_test)\n",
    "    print(f\"\\nR2 after Tuning: {r2_score(y_test, y_pred_tuned):.4f}\")\n"
   ]
  },
  {
   "cell_type": "markdown",
   "id": "29a67359-4a63-4036-932d-dacf6e7e20bc",
   "metadata": {},
   "source": [
    "## Summary\n",
    "\n",
    "- **Goal:** Predict car prices in the US market using machine learning models to help a Chinese automaker enter the market effectively.\n",
    "\n",
    "- **Best Model:**Random Forest Regressor**\n",
    "  - **R² Score:** 0.91 \n",
    "  - **MSE & MAE:** Lowest among all models tested\n",
    "\n",
    "- **Top Features Affecting Price:**\n",
    "  - Engine size\n",
    "  - Horsepower\n",
    "  - Car width\n",
    "  - Curb weight\n",
    "  - Brand name\n",
    "\n",
    "- **Business Insight:** Focus on performance-related specs and branding to align with US pricing dynamics.\n",
    "\n"
   ]
  },
  {
   "cell_type": "code",
   "execution_count": null,
   "id": "80df7e1a-8371-49a0-be81-c7d598551f28",
   "metadata": {},
   "outputs": [],
   "source": []
  }
 ],
 "metadata": {
  "kernelspec": {
   "display_name": "Python [conda env:base] *",
   "language": "python",
   "name": "conda-base-py"
  },
  "language_info": {
   "codemirror_mode": {
    "name": "ipython",
    "version": 3
   },
   "file_extension": ".py",
   "mimetype": "text/x-python",
   "name": "python",
   "nbconvert_exporter": "python",
   "pygments_lexer": "ipython3",
   "version": "3.12.7"
  }
 },
 "nbformat": 4,
 "nbformat_minor": 5
}
